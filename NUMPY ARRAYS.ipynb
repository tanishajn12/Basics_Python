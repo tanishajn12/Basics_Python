{
 "cells": [
  {
   "cell_type": "markdown",
   "id": "771090f3",
   "metadata": {},
   "source": [
    "# NUMPY ARRAYS\n"
   ]
  },
  {
   "cell_type": "markdown",
   "id": "bd206231",
   "metadata": {},
   "source": [
    "Numpy is a general-purpose array-processing package. It provides a high-performance multidimensional array \n",
    "object, and tools for working with these arrays. It is the fundamental package for scientific computing with Python.\n",
    "It is open-source software.\n",
    "\n",
    "->Array in Numpy is a table of elements (usually numbers), all of the same type, indexed by a tuple of positive integers. '\n",
    "->In Numpy, number of dimensions of the array is called rank of the array.\n",
    "->A tuple of integers giving the size of the array along each dimension is known as shape of the array. \n",
    "->An array class in Numpy is called as ndarray."
   ]
  },
  {
   "cell_type": "markdown",
   "id": "0aac95d7",
   "metadata": {},
   "source": [
    "Numpy arrays vs list\n",
    "Unlike lists, NumPy arrays are of fixed size, and changing the size of an array will lead to the creation of a \n",
    "new array while the original array will be deleted.\n",
    "All the elements in an array are of the same type.\n",
    "Numpy arrays are faster, more efficient, and require less syntax than standard python sequences."
   ]
  },
  {
   "cell_type": "code",
   "execution_count": 2,
   "id": "c273503d",
   "metadata": {},
   "outputs": [
    {
     "name": "stdout",
     "output_type": "stream",
     "text": [
      "[1 2 3 4]\n"
     ]
    }
   ],
   "source": [
    "import numpy as np\n",
    "list=[1,2,3,4]\n",
    "arr=np.array(list)\n",
    "print(arr)"
   ]
  },
  {
   "cell_type": "code",
   "execution_count": 1,
   "id": "c80e3279",
   "metadata": {},
   "outputs": [
    {
     "name": "stdout",
     "output_type": "stream",
     "text": [
      "The new created array is: 1 2 3 "
     ]
    }
   ],
   "source": [
    "import array\n",
    "arr=array.array('i',[1,2,3])\n",
    "print(\"The new created array is: \", end=\"\")\n",
    "for i in range(0,3):\n",
    "    print(arr[i],end=\" \")"
   ]
  },
  {
   "cell_type": "code",
   "execution_count": 3,
   "id": "6efb6423",
   "metadata": {},
   "outputs": [
    {
     "data": {
      "text/plain": [
       "numpy.ndarray"
      ]
     },
     "execution_count": 3,
     "metadata": {},
     "output_type": "execute_result"
    }
   ],
   "source": [
    "type(arr)"
   ]
  },
  {
   "cell_type": "code",
   "execution_count": 2,
   "id": "0cd1d8d0",
   "metadata": {},
   "outputs": [
    {
     "name": "stdout",
     "output_type": "stream",
     "text": [
      "Matrix a : \n",
      " [1065353216 1065353216]\n",
      "\n",
      "Matrix b : \n",
      " [[  592743213 -1820210279]\n",
      " [-1548596799   768568353]]\n",
      "\n",
      "Matrix c : \n",
      " [[0.00000000e+000 0.00000000e+000 0.00000000e+000]\n",
      " [0.00000000e+000 0.00000000e+000 4.64421707e-321]\n",
      " [1.42810317e-311 2.00485144e-307 0.00000000e+000]]\n"
     ]
    }
   ],
   "source": [
    "#numpy.empty(shape, dtype = float, order = ‘C’)\n",
    "import numpy as np\n",
    "a=np.empty(2,dtype=int)\n",
    "print(\"Matrix a : \\n\", a)\n",
    "\n",
    "b = np.empty([2, 2], dtype = int)\n",
    "print(\"\\nMatrix b : \\n\", b)\n",
    " \n",
    "c = np.empty([3, 3])\n",
    "print(\"\\nMatrix c : \\n\", c)"
   ]
  },
  {
   "cell_type": "code",
   "execution_count": 4,
   "id": "940b9fc6",
   "metadata": {},
   "outputs": [
    {
     "name": "stdout",
     "output_type": "stream",
     "text": [
      "[[1 2 3]\n",
      " [4 5 6]]\n"
     ]
    }
   ],
   "source": [
    "import numpy as np\n",
    "list1=[1,2,3]\n",
    "list2=[4,5,6]\n",
    "arr2=np.array([list1,list2])\n",
    "print(arr2)"
   ]
  },
  {
   "cell_type": "code",
   "execution_count": 8,
   "id": "0ba24a10",
   "metadata": {},
   "outputs": [
    {
     "name": "stdout",
     "output_type": "stream",
     "text": [
      "[[1 2 3]\n",
      " [4 5 6]]\n"
     ]
    }
   ],
   "source": [
    "print(arr2)"
   ]
  },
  {
   "cell_type": "code",
   "execution_count": 6,
   "id": "fad89796",
   "metadata": {},
   "outputs": [
    {
     "name": "stdout",
     "output_type": "stream",
     "text": [
      "(2, 3)\n"
     ]
    }
   ],
   "source": [
    "print(arr2.shape)"
   ]
  },
  {
   "cell_type": "code",
   "execution_count": 9,
   "id": "3d7f735f",
   "metadata": {},
   "outputs": [
    {
     "name": "stdout",
     "output_type": "stream",
     "text": [
      "int32\n",
      "float64\n"
     ]
    }
   ],
   "source": [
    "import numpy as np\n",
    "arr1=np.array([[0,4,2]])\n",
    "arr2=np.array([0.2,0.4,2.4])\n",
    "print(arr1.dtype)\n",
    "print(arr2.dtype)"
   ]
  },
  {
   "cell_type": "code",
   "execution_count": 10,
   "id": "78e5b256",
   "metadata": {},
   "outputs": [
    {
     "name": "stdout",
     "output_type": "stream",
     "text": [
      "[3 5 4 2]\n"
     ]
    }
   ],
   "source": [
    "#syntax: numpy.array(parameter)\n",
    "import numpy as np\n",
    "arr=np.array([3,5,4,2])\n",
    "print(arr)"
   ]
  },
  {
   "cell_type": "code",
   "execution_count": 17,
   "id": "4cfdab53",
   "metadata": {},
   "outputs": [
    {
     "name": "stdout",
     "output_type": "stream",
     "text": [
      "[ 0  1  4  9 16 25 36 49]\n",
      "[0. 2. 4. 6.]\n"
     ]
    }
   ],
   "source": [
    "import numpy as np\n",
    "iterable=(a*a for a in range(8))\n",
    "arr=np.fromiter(iterable,int)\n",
    "iterable=(b+b for b in range(4))\n",
    "brr=np.fromiter(iterable,float)\n",
    "print(arr)\n",
    "print(brr)"
   ]
  },
  {
   "cell_type": "code",
   "execution_count": 18,
   "id": "b830aa3d",
   "metadata": {},
   "outputs": [
    {
     "name": "stdout",
     "output_type": "stream",
     "text": [
      "['G' 'e' 'e' 'k' 'f' 'o' 'r' 'g' 'e' 'e' 'k' 's']\n"
     ]
    }
   ],
   "source": [
    "import numpy as np\n",
    "str = \"Geekforgeeks\"\n",
    "arr = np.fromiter(str, dtype = 'U2')\n",
    "print(arr)"
   ]
  },
  {
   "cell_type": "code",
   "execution_count": 22,
   "id": "c9bf184f",
   "metadata": {},
   "outputs": [
    {
     "data": {
      "text/plain": [
       "array([ 1,  3,  5,  7,  9, 11, 13, 15, 17, 19])"
      ]
     },
     "execution_count": 22,
     "metadata": {},
     "output_type": "execute_result"
    }
   ],
   "source": [
    "#numpy.arange([start, ]stop, [step,]dtype=None)\n",
    "import numpy as np\n",
    "np.arange(1, 20 , 2)"
   ]
  },
  {
   "cell_type": "code",
   "execution_count": 23,
   "id": "d373fded",
   "metadata": {},
   "outputs": [
    {
     "data": {
      "text/plain": [
       "array([[0, 0, 0],\n",
       "       [0, 0, 0],\n",
       "       [0, 0, 0],\n",
       "       [0, 0, 0]])"
      ]
     },
     "execution_count": 23,
     "metadata": {},
     "output_type": "execute_result"
    }
   ],
   "source": [
    "#numpy.empty(shape, dtype=int, order='C')\n",
    "import numpy as np\n",
    "np.empty([4, 3],dtype = np.int32,order = 'f')"
   ]
  },
  {
   "cell_type": "code",
   "execution_count": 24,
   "id": "5bb45ddd",
   "metadata": {},
   "outputs": [
    {
     "data": {
      "text/plain": [
       "array([[1, 1, 1],\n",
       "       [1, 1, 1],\n",
       "       [1, 1, 1],\n",
       "       [1, 1, 1]])"
      ]
     },
     "execution_count": 24,
     "metadata": {},
     "output_type": "execute_result"
    }
   ],
   "source": [
    "#numpy.ones(shape, dtype=int, order='C')\n",
    "import numpy as np\n",
    " \n",
    "np.ones([4, 3],dtype = np.int32)"
   ]
  },
  {
   "cell_type": "code",
   "execution_count": 3,
   "id": "a26177af",
   "metadata": {},
   "outputs": [
    {
     "name": "stdout",
     "output_type": "stream",
     "text": [
      "[[0 0 0]\n",
      " [0 0 0]\n",
      " [0 0 0]\n",
      " [0 0 0]]\n"
     ]
    }
   ],
   "source": [
    "import numpy as np\n",
    "arr=np.zeros([4, 3],dtype = np.int32)\n",
    "print(arr)"
   ]
  },
  {
   "cell_type": "code",
   "execution_count": 1,
   "id": "5f60d156",
   "metadata": {},
   "outputs": [
    {
     "name": "stdout",
     "output_type": "stream",
     "text": [
      "Array is of type:  <class 'numpy.ndarray'>\n",
      "No. of dimensions:  2\n",
      "Shape of array:  (2, 3)\n",
      "Size of array:  6\n",
      "Array stores elements of type:  int32\n"
     ]
    }
   ],
   "source": [
    "import numpy as np\n",
    "arr = np.array( [[ 1, 2, 3],\n",
    "                 [ 4, 2, 5]] )\n",
    "print(\"Array is of type: \", type(arr))\n",
    "print(\"No. of dimensions: \", arr.ndim)\n",
    "print(\"Shape of array: \", arr.shape)\n",
    "print(\"Size of array: \", arr.size)\n",
    "print(\"Array stores elements of type: \", arr.dtype)"
   ]
  },
  {
   "cell_type": "code",
   "execution_count": 8,
   "id": "db9314d3",
   "metadata": {},
   "outputs": [
    {
     "name": "stdout",
     "output_type": "stream",
     "text": [
      "[[1. 2. 4.]\n",
      " [5. 8. 7.]]\n",
      "[1 3 4]\n",
      "[[0 0 0 0]\n",
      " [0 0 0 0]\n",
      " [0 0 0 0]]\n",
      "[[6.+0.j 6.+0.j 6.+0.j]\n",
      " [6.+0.j 6.+0.j 6.+0.j]\n",
      " [6.+0.j 6.+0.j 6.+0.j]]\n",
      "[[0.48399124 0.53704626]\n",
      " [0.63683544 0.2761012 ]]\n",
      "[ 0  5 10 15 20 25]\n",
      "[0.         0.55555556 1.11111111 1.66666667 2.22222222 2.77777778\n",
      " 3.33333333 3.88888889 4.44444444 5.        ]\n"
     ]
    }
   ],
   "source": [
    "import numpy as np\n",
    "a=np.array([[1,2,4],[5,8,7]],dtype='float')#array created using lists\n",
    "print(a)\n",
    "b=np.array((1,3,4)) #arrays using tuple\n",
    "print(b)\n",
    "c=np.zeros((3,4),dtype='int')\n",
    "print(c)\n",
    "d=np.full((3,3),6,dtype='complex')#array initialised with all 6's\n",
    "print(d)\n",
    "e=np.random.random((2,2))#create array using random values\n",
    "print(e)\n",
    "f=np.arange(0,30,5) #create array from sequence \n",
    "print(f)\n",
    "g=np.linspace(0,5,10)# Create a sequence of 10 values in range 0 to 5\n",
    "print(g)"
   ]
  },
  {
   "cell_type": "code",
   "execution_count": 15,
   "id": "bca32787",
   "metadata": {},
   "outputs": [
    {
     "name": "stdout",
     "output_type": "stream",
     "text": [
      "original array :\n",
      " [[1 2 3 4]\n",
      " [5 2 4 7]\n",
      " [1 2 0 1]]\n",
      "reshaped array :\n",
      " [[[1 2 3]\n",
      "  [4 5 2]]\n",
      "\n",
      " [[4 7 1]\n",
      "  [2 0 1]]]\n"
     ]
    }
   ],
   "source": [
    "#reshaping array : 3X4 array to 2X2X3 array\n",
    "arr=np.array([[1,2,3,4],\n",
    "              [5,2,4,7],\n",
    "              [1,2,0,1]])\n",
    "newarr=arr.reshape(2,2,3)\n",
    "print(\"original array :\\n\",arr)\n",
    "print(\"reshaped array :\\n\",newarr)"
   ]
  },
  {
   "cell_type": "code",
   "execution_count": 16,
   "id": "2458aeb5",
   "metadata": {},
   "outputs": [
    {
     "name": "stdout",
     "output_type": "stream",
     "text": [
      "\n",
      "Original array:\n",
      " [[1 2 3]\n",
      " [4 5 6]]\n",
      "Fattened array:\n",
      " [1 2 3 4 5 6]\n"
     ]
    }
   ],
   "source": [
    "# Flatten array\n",
    "arr = np.array([[1, 2, 3], [4, 5, 6]])\n",
    "flarr = arr.flatten()\n",
    " \n",
    "print (\"\\nOriginal array:\\n\", arr)\n",
    "print (\"Fattened array:\\n\", flarr)"
   ]
  },
  {
   "cell_type": "code",
   "execution_count": 86,
   "id": "1aaa42c9",
   "metadata": {},
   "outputs": [
    {
     "data": {
      "text/plain": [
       "array([6, 8, 1, 8, 4, 1])"
      ]
     },
     "execution_count": 86,
     "metadata": {},
     "output_type": "execute_result"
    }
   ],
   "source": [
    "n1=np.random.randint(10,size=(3,2))\n",
    "n1.ravel() \n",
    "#Ravel function flattens the array (i.e. convert to a 1-dimensional array)."
   ]
  },
  {
   "cell_type": "code",
   "execution_count": 19,
   "id": "e6832313",
   "metadata": {},
   "outputs": [
    {
     "name": "stdout",
     "output_type": "stream",
     "text": [
      "[[1 3]\n",
      " [5 7]]\n",
      "\n",
      "Elements at indices (0, 3), (1, 2), (2, 1),(3, 0):\n",
      " [ 4  7 10 13]\n",
      "\n",
      " Elements even : \n",
      " [ 2  4  6  8 10 12 14 16]\n"
     ]
    }
   ],
   "source": [
    "import numpy as np\n",
    "arr=np.array([[1,2,3,4],\n",
    "              [5,6,7,8],\n",
    "              [9,10,11,12],\n",
    "              [13,14,15,16]])\n",
    "\n",
    "temp=arr[:2,::2] #Array with first 2 rows and alternate columns(0 and 2)\n",
    "print(temp)\n",
    "\n",
    "temp=arr[[0,1,2,3],[3,2,1,0]]\n",
    "print (\"\\nElements at indices (0, 3), (1, 2), (2, 1),(3, 0):\\n\", temp)\n",
    "\n",
    "cond=(arr%2==0)\n",
    "temp=arr[cond]\n",
    "print(\"\\n Elements even : \\n\",temp)\n",
    " "
   ]
  },
  {
   "cell_type": "code",
   "execution_count": 20,
   "id": "2e2e9578",
   "metadata": {},
   "outputs": [
    {
     "name": "stdout",
     "output_type": "stream",
     "text": [
      "Adding 1 to every element: [2 3 6 4]\n",
      "Subtracting 3 from each element: [-2 -1  2  0]\n",
      "Multiplying each element by 10: [10 20 50 30]\n",
      "Squaring each element: [ 1  4 25  9]\n",
      "Doubled each element of original array: [ 2  4 10  6]\n",
      "\n",
      "Original array:\n",
      " [[1 2 3]\n",
      " [3 4 5]\n",
      " [9 6 0]]\n",
      "Transpose of array:\n",
      " [[1 3 9]\n",
      " [2 4 6]\n",
      " [3 5 0]]\n"
     ]
    }
   ],
   "source": [
    "#ARITHMETIC OPERATORS\n",
    "import numpy as np\n",
    "a = np.array([1, 2, 5, 3])\n",
    "\n",
    "print (\"Adding 1 to every element:\", a+1)\n",
    "\n",
    "print (\"Subtracting 3 from each element:\", a-3)\n",
    "\n",
    "print (\"Multiplying each element by 10:\", a*10)\n",
    "\n",
    "print (\"Squaring each element:\", a**2)\n",
    "\n",
    "a *= 2\n",
    "print (\"Doubled each element of original array:\", a)\n",
    " \n",
    "# transpose of array : arr.T\n",
    "arr = np.array([[1, 2, 3], [3, 4, 5], [9, 6, 0]])\n",
    " \n",
    "print (\"\\nOriginal array:\\n\", arr)\n",
    "print (\"Transpose of array:\\n\", arr.T)"
   ]
  },
  {
   "cell_type": "code",
   "execution_count": 27,
   "id": "1da82e30",
   "metadata": {},
   "outputs": [
    {
     "name": "stdout",
     "output_type": "stream",
     "text": [
      "Largest element is: 9\n",
      "Row wise max elements: [6 7 9]\n",
      "Column wise max elements: [4 7 9]\n",
      "Column-wise minimum elements: [1 1 2]\n",
      "Sum of all array elements: 38\n",
      "Row wise sum of elements:  [12 13 13]\n",
      "Cumulative sum along each row:\n",
      " [[ 1  6 12]\n",
      " [ 4 11 13]\n",
      " [ 3  4 13]]\n"
     ]
    }
   ],
   "source": [
    "#UNARY OPERATORS\n",
    "import numpy as np\n",
    "arr=np.array([[1,5,6],[4,7,2],[3,1,9]])\n",
    "\n",
    "#maximum element of array\n",
    "print(\"Largest element is:\",arr.max())\n",
    "print(\"Row wise max elements:\", arr.max(axis=1))\n",
    "print(\"Column wise max elements:\", arr.max(axis=0))\n",
    "\n",
    "# minimum element of array\n",
    "print (\"Column-wise minimum elements:\",arr.min(axis = 0))\n",
    "\n",
    "# sum of array elements\n",
    "print (\"Sum of all array elements:\",arr.sum())\n",
    "print(\"Row wise sum of elements: \",arr.sum(axis=1))\n",
    "\n",
    "# cumulative sum along each row\n",
    "print (\"Cumulative sum along each row:\\n\",arr.cumsum(axis = 1))"
   ]
  },
  {
   "cell_type": "code",
   "execution_count": 28,
   "id": "246a604c",
   "metadata": {},
   "outputs": [
    {
     "name": "stdout",
     "output_type": "stream",
     "text": [
      "Array sum:\n",
      " [[5 5]\n",
      " [5 5]]\n",
      "array multiplication: \n",
      " [[4 6]\n",
      " [6 4]]\n",
      "matrix multiplication:\n",
      " [[ 8  5]\n",
      " [20 13]]\n"
     ]
    }
   ],
   "source": [
    "#BINARY OPERATORS\n",
    "import numpy as np\n",
    "a=np.array([[1,2],\n",
    "            [3,4]])\n",
    "b=np.array([[4,3],\n",
    "           [2,1]])\n",
    "\n",
    "#add two arrays\n",
    "print(\"Array sum:\\n\",a+b)\n",
    "\n",
    "print(\"array multiplication: \\n\",a*b)\n",
    "\n",
    "#matrix multiplication\n",
    "print(\"matrix multiplication:\\n\",a.dot(b))\n"
   ]
  },
  {
   "cell_type": "code",
   "execution_count": 29,
   "id": "611f3f9c",
   "metadata": {},
   "outputs": [
    {
     "name": "stdout",
     "output_type": "stream",
     "text": [
      "Sine values of array elements: [0.0000000e+00 1.0000000e+00 1.2246468e-16]\n",
      "Exponent of array elements: [ 1.          2.71828183  7.3890561  20.08553692]\n",
      "Square root of array elements: [0.         1.         1.41421356 1.73205081]\n"
     ]
    }
   ],
   "source": [
    "#universal functions\n",
    "import numpy as np\n",
    "\n",
    "# create an array of sine values\n",
    "a = np.array([0, np.pi/2, np.pi])\n",
    "print (\"Sine values of array elements:\", np.sin(a))\n",
    " \n",
    "# exponential values\n",
    "a = np.array([0, 1, 2, 3])\n",
    "print (\"Exponent of array elements:\", np.exp(a))\n",
    " \n",
    "# square root of array values\n",
    "print (\"Square root of array elements:\", np.sqrt(a))"
   ]
  },
  {
   "cell_type": "code",
   "execution_count": 31,
   "id": "5330b3c7",
   "metadata": {},
   "outputs": [
    {
     "name": "stdout",
     "output_type": "stream",
     "text": [
      "sorted array :\n",
      " [-1  0  1  2  3  4  4  5  6]\n",
      "Row wise sorted array:\n",
      " [[ 1  2  4]\n",
      " [ 3  4  6]\n",
      " [-1  0  5]]\n",
      "Column wise merge-sort:\n",
      " [[ 0 -1  2]\n",
      " [ 1  4  5]\n",
      " [ 3  4  6]]\n"
     ]
    }
   ],
   "source": [
    "#SORTING ARRAY\n",
    "import numpy as np\n",
    "a=np.array([[1,4,2],\n",
    "            [3,4,6],\n",
    "            [0,-1,5]])\n",
    "\n",
    "print(\"sorted array :\\n\",np.sort(a,axis=None))\n",
    "print(\"Row wise sorted array:\\n\",np.sort(a,axis=1))\n",
    "\n",
    "# specify sort algorithm\n",
    "print (\"Column wise merge-sort:\\n\",np.sort(a, axis = 0, kind = 'mergesort'))\n"
   ]
  },
  {
   "cell_type": "code",
   "execution_count": 35,
   "id": "685f1911",
   "metadata": {},
   "outputs": [
    {
     "name": "stdout",
     "output_type": "stream",
     "text": [
      "Array sorted by names:\n",
      " [(b'Aakash', 2009, 9. ) (b'Ajay', 2008, 8.7) (b'Hrithik', 2009, 8.5)\n",
      " (b'Pankaj', 2008, 7.9)]\n"
     ]
    }
   ],
   "source": [
    "dtypes=[('name','S10'),('year',int),('cgpa',float)]\n",
    "values = [('Hrithik', 2009, 8.5), ('Ajay', 2008, 8.7),\n",
    "           ('Pankaj', 2008, 7.9), ('Aakash', 2009, 9.0)]\n",
    "arr=np.array(values,dtype=dtypes)\n",
    "print(\"Array sorted by names:\\n\",np.sort(arr,order='name'))"
   ]
  },
  {
   "cell_type": "code",
   "execution_count": 37,
   "id": "7a420a30",
   "metadata": {},
   "outputs": [
    {
     "name": "stdout",
     "output_type": "stream",
     "text": [
      "Array sorted by graduation year and then cgpa:\n",
      " [(b'Pankaj', 2008, 7.9) (b'Ajay', 2008, 8.7) (b'Hrithik', 2009, 8.5)\n",
      " (b'Aakash', 2009, 9. )]\n"
     ]
    }
   ],
   "source": [
    "print (\"Array sorted by graduation year and then cgpa:\\n\",\n",
    "                np.sort(arr, order = ['grad_year', 'cgpa']))"
   ]
  },
  {
   "cell_type": "code",
   "execution_count": 38,
   "id": "dc927c55",
   "metadata": {},
   "outputs": [
    {
     "name": "stdout",
     "output_type": "stream",
     "text": [
      "[1 2 3 4]\n",
      "<class 'numpy.ndarray'>\n"
     ]
    }
   ],
   "source": [
    "list=[1,2,3,4]\n",
    "arr=np.array(list)\n",
    "print(arr)\n",
    "print(type(arr))#arr is an array object of numpy\n",
    "#note: array class in numpy is called ndarray"
   ]
  },
  {
   "cell_type": "code",
   "execution_count": 39,
   "id": "3eedf27f",
   "metadata": {},
   "outputs": [
    {
     "name": "stdout",
     "output_type": "stream",
     "text": [
      "[1 2 3 4]\n",
      "<class 'numpy.ndarray'>\n"
     ]
    }
   ],
   "source": [
    "tuple=(1,2,3,4)\n",
    "arr=np.array(tuple)\n",
    "#arr=np.array((1,2,3,4))\n",
    "print(arr)\n",
    "print(type(arr))"
   ]
  },
  {
   "cell_type": "code",
   "execution_count": 40,
   "id": "d18ceebe",
   "metadata": {},
   "outputs": [
    {
     "name": "stdout",
     "output_type": "stream",
     "text": [
      "Before arr1 [1 2 3]\n",
      "Before arr2 [4 5 6]\n",
      "After arr1 [4 5 6]\n",
      "After arr2 [4 5 6]\n"
     ]
    }
   ],
   "source": [
    "#COPY FUNCTION\n",
    "arr1=np.array([1,2,3])\n",
    "arr2=np.array([4,5,6])\n",
    "print(\"Before arr1\", arr1)\n",
    "print(\"Before arr2\",arr2)\n",
    "#np.copytp(destination,source)\n",
    "np.copyto(arr1,arr2)\n",
    "print(\"After arr1\", arr1)\n",
    "print(\"After arr2\",arr2)"
   ]
  },
  {
   "cell_type": "code",
   "execution_count": 42,
   "id": "15e23050",
   "metadata": {},
   "outputs": [
    {
     "data": {
      "text/plain": [
       "array([11, 12, 13, 14])"
      ]
     },
     "execution_count": 42,
     "metadata": {},
     "output_type": "execute_result"
    }
   ],
   "source": [
    "#WHERE\n",
    "n=np.arange(15).reshape(5,3)\n",
    "n[np.where(n>10)]\n",
    "print(n)"
   ]
  },
  {
   "cell_type": "code",
   "execution_count": 44,
   "id": "3d0bbd3d",
   "metadata": {},
   "outputs": [
    {
     "name": "stdout",
     "output_type": "stream",
     "text": [
      "[ 1 10 11  4  5  6  7  8  9]\n"
     ]
    }
   ],
   "source": [
    "ar = np.array([1,2,3,4,5,6,7,8,9])\n",
    "np.put(ar,[1,2],[10,11])\n",
    "print(ar)"
   ]
  },
  {
   "cell_type": "code",
   "execution_count": 46,
   "id": "bc4ff166",
   "metadata": {},
   "outputs": [
    {
     "name": "stdout",
     "output_type": "stream",
     "text": [
      "[[19 22]\n",
      " [43 50]]\n"
     ]
    }
   ],
   "source": [
    "#matrix multiplication\n",
    "x1=([[1,2],[3,4]])\n",
    "x2=([[5,6],[7,8]])\n",
    "m=np.matmul(x1,x2)\n",
    "print(m)"
   ]
  },
  {
   "cell_type": "code",
   "execution_count": 47,
   "id": "016791e8",
   "metadata": {},
   "outputs": [
    {
     "data": {
      "text/plain": [
       "31"
      ]
     },
     "execution_count": 47,
     "metadata": {},
     "output_type": "execute_result"
    }
   ],
   "source": [
    "#dot product\n",
    "x1=np.array([1,2,3])\n",
    "x2=np.array([3,2,8])\n",
    "np.dot(x1,x2)"
   ]
  },
  {
   "cell_type": "code",
   "execution_count": 48,
   "id": "dd2bb593",
   "metadata": {},
   "outputs": [
    {
     "name": "stdout",
     "output_type": "stream",
     "text": [
      "-10.000000000000002\n"
     ]
    }
   ],
   "source": [
    "#linear algebra\n",
    "n=np.array([[2,3],[4,1]])\n",
    "#determinant of matrix\n",
    "d=np.linalg.det(n)\n",
    "print(d)"
   ]
  },
  {
   "cell_type": "code",
   "execution_count": 49,
   "id": "4838feb1",
   "metadata": {},
   "outputs": [
    {
     "name": "stdout",
     "output_type": "stream",
     "text": [
      "[[-0.1  0.3]\n",
      " [ 0.4 -0.2]]\n"
     ]
    }
   ],
   "source": [
    "#inverse of matrix\n",
    "i=np.linalg.inv(n)\n",
    "print(i)"
   ]
  },
  {
   "cell_type": "code",
   "execution_count": 50,
   "id": "74a05d3f",
   "metadata": {},
   "outputs": [
    {
     "name": "stdout",
     "output_type": "stream",
     "text": [
      "(array([ 5., -2.]), array([[ 0.70710678, -0.6       ],\n",
      "       [ 0.70710678,  0.8       ]]))\n"
     ]
    }
   ],
   "source": [
    "# eigenvalues and right eigenvectors for a square matrix.\n",
    "e=np.linalg.eig(n)\n",
    "print(e)"
   ]
  },
  {
   "cell_type": "code",
   "execution_count": 54,
   "id": "6fdb5205",
   "metadata": {},
   "outputs": [
    {
     "name": "stdout",
     "output_type": "stream",
     "text": [
      "[[4 3 3]\n",
      " [3 2 4]\n",
      " [4 5 1]\n",
      " [1 3 2]]\n"
     ]
    },
    {
     "data": {
      "text/plain": [
       "[array([[4, 3, 3],\n",
       "        [3, 2, 4]]),\n",
       " array([[4, 5, 1],\n",
       "        [1, 3, 2]])]"
      ]
     },
     "execution_count": 54,
     "metadata": {},
     "output_type": "execute_result"
    }
   ],
   "source": [
    "#Vsplit: vertical split\n",
    "n=np.random.randint(6,size=(4,3))\n",
    "print(n)\n",
    "x=np.vsplit(n,2)\n",
    "x"
   ]
  },
  {
   "cell_type": "code",
   "execution_count": 55,
   "id": "81cd03fc",
   "metadata": {},
   "outputs": [
    {
     "name": "stdout",
     "output_type": "stream",
     "text": [
      "[[4 3 3]\n",
      " [3 2 4]]\n",
      "[[4 5 1]\n",
      " [1 3 2]]\n"
     ]
    }
   ],
   "source": [
    "print(x[0])\n",
    "print(x[1])"
   ]
  },
  {
   "cell_type": "code",
   "execution_count": 57,
   "id": "eb1c8d30",
   "metadata": {},
   "outputs": [
    {
     "name": "stdout",
     "output_type": "stream",
     "text": [
      "[[4 5 0 3]\n",
      " [0 4 5 4]\n",
      " [2 0 5 1]\n",
      " [0 2 3 2]]\n"
     ]
    },
    {
     "data": {
      "text/plain": [
       "[array([[4, 5],\n",
       "        [0, 4],\n",
       "        [2, 0],\n",
       "        [0, 2]]),\n",
       " array([[0, 3],\n",
       "        [5, 4],\n",
       "        [5, 1],\n",
       "        [3, 2]])]"
      ]
     },
     "execution_count": 57,
     "metadata": {},
     "output_type": "execute_result"
    }
   ],
   "source": [
    "#hsplit: horizontal split\n",
    "n=np.random.randint(6,size=(4,4))\n",
    "print(n)\n",
    "h=np.hsplit(n,2)\n",
    "h"
   ]
  },
  {
   "cell_type": "code",
   "execution_count": 58,
   "id": "38ff13a0",
   "metadata": {},
   "outputs": [
    {
     "data": {
      "text/plain": [
       "array([ True, False, False])"
      ]
     },
     "execution_count": 58,
     "metadata": {},
     "output_type": "execute_result"
    }
   ],
   "source": [
    "#comparison\n",
    "n1=np.array([10,20,30])\n",
    "n2=np.array([10,30,20])\n",
    "np.equal(n1,n2)\n"
   ]
  },
  {
   "cell_type": "code",
   "execution_count": 59,
   "id": "d73b3c81",
   "metadata": {},
   "outputs": [
    {
     "data": {
      "text/plain": [
       "False"
      ]
     },
     "execution_count": 59,
     "metadata": {},
     "output_type": "execute_result"
    }
   ],
   "source": [
    "np.array_equal(n1,n2)"
   ]
  },
  {
   "cell_type": "code",
   "execution_count": 60,
   "id": "cc1c6103",
   "metadata": {},
   "outputs": [
    {
     "data": {
      "text/plain": [
       "array([[10, 20, 30],\n",
       "       [10, 30, 20]])"
      ]
     },
     "execution_count": 60,
     "metadata": {},
     "output_type": "execute_result"
    }
   ],
   "source": [
    "#vertical stack\n",
    "n1=np.array([10,20,30])\n",
    "n2=np.array([10,30,20])\n",
    "np.vstack((n1,n2))"
   ]
  },
  {
   "cell_type": "code",
   "execution_count": 61,
   "id": "4605fa99",
   "metadata": {},
   "outputs": [
    {
     "data": {
      "text/plain": [
       "array([10, 20, 30, 10, 30, 20])"
      ]
     },
     "execution_count": 61,
     "metadata": {},
     "output_type": "execute_result"
    }
   ],
   "source": [
    "#horizontal stack\n",
    "n1=np.array([10,20,30])\n",
    "n2=np.array([10,30,20])\n",
    "np.hstack((n1,n2))"
   ]
  },
  {
   "cell_type": "code",
   "execution_count": 62,
   "id": "c4d08bb9",
   "metadata": {},
   "outputs": [
    {
     "data": {
      "text/plain": [
       "array([[10, 40],\n",
       "       [20, 60],\n",
       "       [30, 50]])"
      ]
     },
     "execution_count": 62,
     "metadata": {},
     "output_type": "execute_result"
    }
   ],
   "source": [
    "#column stack\n",
    "n1=np.array([10,20,30])\n",
    "n2=np.array([40,60,50])\n",
    "np.column_stack((n1,n2))"
   ]
  },
  {
   "cell_type": "code",
   "execution_count": 63,
   "id": "fe801732",
   "metadata": {},
   "outputs": [
    {
     "data": {
      "text/plain": [
       "array([50, 60])"
      ]
     },
     "execution_count": 63,
     "metadata": {},
     "output_type": "execute_result"
    }
   ],
   "source": [
    "#intersection\n",
    "n1=np.array([10,20,30,40,50,60])\n",
    "n2=np.array([50,60,70,80,90])\n",
    "np.intersect1d(n1,n2)"
   ]
  },
  {
   "cell_type": "code",
   "execution_count": 64,
   "id": "e2e2c58a",
   "metadata": {},
   "outputs": [
    {
     "data": {
      "text/plain": [
       "array([10, 20, 30, 40])"
      ]
     },
     "execution_count": 64,
     "metadata": {},
     "output_type": "execute_result"
    }
   ],
   "source": [
    "np.setdiff1d(n1,n2)"
   ]
  },
  {
   "cell_type": "code",
   "execution_count": 65,
   "id": "e5954ae8",
   "metadata": {},
   "outputs": [
    {
     "data": {
      "text/plain": [
       "array([70, 80, 90])"
      ]
     },
     "execution_count": 65,
     "metadata": {},
     "output_type": "execute_result"
    }
   ],
   "source": [
    "np.setdiff1d(n2,n1)"
   ]
  },
  {
   "cell_type": "code",
   "execution_count": 70,
   "id": "9ac2a123",
   "metadata": {},
   "outputs": [
    {
     "name": "stdout",
     "output_type": "stream",
     "text": [
      "100\n",
      "[40 60]\n"
     ]
    },
    {
     "data": {
      "text/plain": [
       "array([30, 70])"
      ]
     },
     "execution_count": 70,
     "metadata": {},
     "output_type": "execute_result"
    }
   ],
   "source": [
    "n1=np.array([10,20])\n",
    "n2=np.array([30,40])\n",
    "print(np.sum([n1,n2]))\n",
    "print(np.sum([n1,n2],axis=0)) #axis:0 row wise\n",
    "#axis:1 column wise\n",
    "np.sum([n1,n2],axis=1)"
   ]
  },
  {
   "cell_type": "code",
   "execution_count": 71,
   "id": "247ece2a",
   "metadata": {},
   "outputs": [
    {
     "data": {
      "text/plain": [
       "array([[ 1,  2,  3],\n",
       "       [ 4,  5,  6],\n",
       "       [ 7,  8,  9],\n",
       "       [10, 11, 12]])"
      ]
     },
     "execution_count": 71,
     "metadata": {},
     "output_type": "execute_result"
    }
   ],
   "source": [
    "#concatenation row wise\n",
    "mat1=np.array([[1,2,3],\n",
    "               [4,5,6]])\n",
    "mat2=np.array([[7, 8, 9],\n",
    "               [10, 11, 12]])\n",
    "x=np.concatenate([mat1,mat2],axis=0)\n",
    "x"
   ]
  },
  {
   "cell_type": "code",
   "execution_count": 72,
   "id": "434404ba",
   "metadata": {},
   "outputs": [
    {
     "data": {
      "text/plain": [
       "array([[ 1,  2,  3,  7,  8,  9],\n",
       "       [ 4,  5,  6, 10, 11, 12]])"
      ]
     },
     "execution_count": 72,
     "metadata": {},
     "output_type": "execute_result"
    }
   ],
   "source": [
    "#concatenation row wise\n",
    "mat1=np.array([[1,2,3],\n",
    "               [4,5,6]])\n",
    "mat2=np.array([[7, 8, 9],\n",
    "               [10, 11, 12]])\n",
    "x=np.concatenate([mat1,mat2],axis=1)\n",
    "x"
   ]
  },
  {
   "cell_type": "code",
   "execution_count": 73,
   "id": "6f2d9870",
   "metadata": {},
   "outputs": [
    {
     "data": {
      "text/plain": [
       "array([[1, 4, 9],\n",
       "       [8, 0, 8],\n",
       "       [0, 6, 1]])"
      ]
     },
     "execution_count": 73,
     "metadata": {},
     "output_type": "execute_result"
    }
   ],
   "source": [
    "np.random.randint(0,10,(3,3))"
   ]
  },
  {
   "cell_type": "code",
   "execution_count": 74,
   "id": "0c8ced97",
   "metadata": {},
   "outputs": [
    {
     "data": {
      "text/plain": [
       "array([2, 6, 2, 0, 5, 8, 9, 9, 1])"
      ]
     },
     "execution_count": 74,
     "metadata": {},
     "output_type": "execute_result"
    }
   ],
   "source": [
    "np.random.randint(0,10,9)"
   ]
  },
  {
   "cell_type": "code",
   "execution_count": 76,
   "id": "7375f954",
   "metadata": {},
   "outputs": [
    {
     "name": "stdout",
     "output_type": "stream",
     "text": [
      "[0.33280734 0.97705435 0.1094375  0.54500119 0.4052356 ]\n"
     ]
    }
   ],
   "source": [
    "x=np.random.random(5)\n",
    "print(x)"
   ]
  },
  {
   "cell_type": "code",
   "execution_count": 82,
   "id": "9675d372",
   "metadata": {},
   "outputs": [
    {
     "name": "stdout",
     "output_type": "stream",
     "text": [
      "[ 2.79837211  0.67023346  0.93504352  0.46899457  1.35337894  1.29919027\n",
      "  0.86152856 -0.23651554  0.25877092  0.13898101]\n",
      "0.8547977827009449\n",
      "0.8044593371744387\n"
     ]
    }
   ],
   "source": [
    "x=np.random.randn(10)\n",
    "print(x)\n",
    "m=x.mean()\n",
    "print(m)\n",
    "s=x.std()\n",
    "print(s)"
   ]
  },
  {
   "cell_type": "code",
   "execution_count": 83,
   "id": "4adca2f6",
   "metadata": {},
   "outputs": [
    {
     "data": {
      "text/plain": [
       "array([[5, 0, 3],\n",
       "       [3, 7, 9],\n",
       "       [3, 5, 2]])"
      ]
     },
     "execution_count": 83,
     "metadata": {},
     "output_type": "execute_result"
    }
   ],
   "source": [
    "np.random.seed(0) #fixing the random seed\n",
    "np.random.randint(0,10,(3,3))"
   ]
  },
  {
   "cell_type": "code",
   "execution_count": 84,
   "id": "625a5217",
   "metadata": {},
   "outputs": [
    {
     "data": {
      "text/plain": [
       "array([[9, 4, 0],\n",
       "       [1, 9, 0],\n",
       "       [1, 8, 9]])"
      ]
     },
     "execution_count": 84,
     "metadata": {},
     "output_type": "execute_result"
    }
   ],
   "source": [
    "np.random.seed(10)\n",
    "np.random.randint(0, 10, (3, 3))"
   ]
  },
  {
   "cell_type": "code",
   "execution_count": 85,
   "id": "58fd2fa5",
   "metadata": {},
   "outputs": [
    {
     "data": {
      "text/plain": [
       "array([ 1, 41, 37, 17, 12])"
      ]
     },
     "execution_count": 85,
     "metadata": {},
     "output_type": "execute_result"
    }
   ],
   "source": [
    "n1=np.random.randint(1,100,5)\n",
    "n1"
   ]
  },
  {
   "cell_type": "code",
   "execution_count": null,
   "id": "a5c211d0",
   "metadata": {},
   "outputs": [],
   "source": [
    "import numpy as np\n",
    "\n",
    "# Read dataset from CSV file\n",
    "data = np.genfromtxt('data.csv', delimiter=',')\n",
    "\n",
    "# Calculate mean for the first column\n",
    "a = np.mean(data[:, 0])\n",
    "print(\"Mean of first column:\", a)\n",
    "\n",
    "# Select every second element of the fifth row\n",
    "b= data[4, ::2]\n",
    "print(\"Every second element of the fifth row:\", b)\n",
    "\n",
    "# Values that are between 90 and 95\n",
    "c = data[(data > 90) & (data < 95)]\n",
    "print(\"Values between 90 and 95:\", c)\n",
    "\n",
    "# Sort values in descending order for each column\n",
    "d= np.sort(data, axis=0)[::-1]\n",
    "print(\"Sorted in descending order for each column:\", d)"
   ]
  },
  {
   "cell_type": "code",
   "execution_count": 4,
   "id": "0670e87d",
   "metadata": {},
   "outputs": [
    {
     "name": "stdout",
     "output_type": "stream",
     "text": [
      "[0 1 2 3 4 5 6 7]\n",
      "[[0 1]\n",
      " [2 3]\n",
      " [4 5]\n",
      " [6 7]]\n"
     ]
    }
   ],
   "source": [
    "import numpy as np\n",
    "arr=np.arange(8)\n",
    "print(arr)\n",
    "\n",
    "arr=np.arange(8).reshape(4,2)\n",
    "print(arr)"
   ]
  },
  {
   "cell_type": "code",
   "execution_count": 6,
   "id": "cf581fa6",
   "metadata": {},
   "outputs": [
    {
     "name": "stdout",
     "output_type": "stream",
     "text": [
      "[4 5 6 7 8 9]\n",
      "[[ 4  7 10]\n",
      " [13 16 19]]\n"
     ]
    }
   ],
   "source": [
    "arr=np.arange(4,10)\n",
    "print(arr)\n",
    "\n",
    "arr1=np.arange(4,20,3).reshape(2,3)\n",
    "print(arr1)"
   ]
  },
  {
   "cell_type": "code",
   "execution_count": 7,
   "id": "cf9e5ef9",
   "metadata": {},
   "outputs": [
    {
     "name": "stdout",
     "output_type": "stream",
     "text": [
      "Empty array \n",
      " [[0 0 0 0]\n",
      " [0 0 0 0]\n",
      " [0 0 0 0]]\n",
      "\n",
      " Full Array \n",
      "\n",
      "[[55 55 55]\n",
      " [55 55 55]\n",
      " [55 55 55]]\n"
     ]
    }
   ],
   "source": [
    "#full and empty array\n",
    "#numpy.full(shape,fill_value, dtype=None, order='C')\n",
    "#numpy.empty(shape,dtype=float,order='C')\n",
    "import numpy as np\n",
    "arr=np.empty((3,4),dtype=int)\n",
    "print(\"Empty array \\n\",arr)\n",
    "\n",
    "arr2 = np.full([3, 3], 55, dtype=int)\n",
    "print(\"\\n Full Array \\n\")\n",
    "print(arr2)\n"
   ]
  },
  {
   "cell_type": "code",
   "execution_count": 9,
   "id": "2d5302c5",
   "metadata": {},
   "outputs": [
    {
     "name": "stdout",
     "output_type": "stream",
     "text": [
      "[[1 2 3]\n",
      " [4 5 6]]\n"
     ]
    }
   ],
   "source": [
    "#loading and saving data in numpy\n",
    "import numpy as np\n",
    "data=np.array([[1,2,3],[4,5,6]])\n",
    "\n",
    "#save data to file\n",
    "np.save('data.npy',data)\n",
    "\n",
    "#load data from file\n",
    "load_data=np.load('data.npy')\n",
    "\n",
    "print(load_data)"
   ]
  },
  {
   "cell_type": "code",
   "execution_count": null,
   "id": "ea5de38b",
   "metadata": {},
   "outputs": [],
   "source": [
    "If you want to save multiple arrays, you can use the np.savez() \n",
    "function instead of np.save(). This function allows you to save \n",
    "multiple arrays to a single compressed file. "
   ]
  },
  {
   "cell_type": "code",
   "execution_count": 11,
   "id": "16110309",
   "metadata": {},
   "outputs": [
    {
     "name": "stdout",
     "output_type": "stream",
     "text": [
      "[1 2 3]\n",
      "[4 5 6]\n"
     ]
    }
   ],
   "source": [
    "import numpy as np\n",
    "\n",
    "# create some sample arrays\n",
    "array1 = np.array([1, 2, 3])\n",
    "array2 = np.array([4, 5, 6])\n",
    "\n",
    "# save the arrays to a file\n",
    "np.savez('data.npz', array1=array1, array2=array2)\n",
    "\n",
    "# load the arrays from the file\n",
    "loaded_data = np.load('data.npz')\n",
    "\n",
    "# extract the arrays from the loaded data\n",
    "loaded_array1 = loaded_data['array1']\n",
    "loaded_array2 = loaded_data['array2']\n",
    "\n",
    "# print the loaded arrays\n",
    "print(loaded_array1)\n",
    "print(loaded_array2)"
   ]
  },
  {
   "cell_type": "code",
   "execution_count": 13,
   "id": "d5d5c639",
   "metadata": {},
   "outputs": [],
   "source": [
    "#saving an array\n",
    "import numpy as np\n",
    "arr=np.array([1,2,3,4,5])\n",
    "\n",
    "np.save('arr.npy',arr)\n",
    "\n",
    "#Note that the np.save() function automatically adds a .npy extension \n",
    "#to the filename you provide. This is a binary format specific to NumPy \n",
    "#that allows for efficient reading and writing of large arrays."
   ]
  },
  {
   "cell_type": "code",
   "execution_count": 14,
   "id": "444431ac",
   "metadata": {},
   "outputs": [
    {
     "name": "stdout",
     "output_type": "stream",
     "text": [
      "[1 2 3 4 5]\n"
     ]
    }
   ],
   "source": [
    "loaded_array=np.load('arr.npy')\n",
    "print(loaded_array)\n",
    "\n",
    "#The np.load() function automatically detects the data type and shape of the\n",
    "#saved array, so you don't need to specify these parameters explicitly. "
   ]
  },
  {
   "cell_type": "code",
   "execution_count": null,
   "id": "1de9e04a",
   "metadata": {},
   "outputs": [],
   "source": [
    "#loading array from text file or another file format\n",
    "import numpy as np\n",
    "array=np.loadtxt('arr.txt',delimiter=',')\n",
    "print(array)\n",
    "\n",
    "In this example, we use the np.loadtxt() function to load an array from a \n",
    "text file called my_array.txt. We specify the delimiter as a comma , \n",
    "because the values in the text file are separated by commas. If your data \n",
    "is separated by a different delimiter like a space or tab, you can specify \n",
    "that instead.\n",
    "\n"
   ]
  },
  {
   "cell_type": "code",
   "execution_count": null,
   "id": "67be4ce6",
   "metadata": {},
   "outputs": [],
   "source": [
    "arr=np.loadtxt('array.txt',dtype=int,delimiter=' ')\n",
    "print(arr)\n",
    "By default, np.loadtxt() assumes that all values in the text file are floats,\n",
    "but you can specify a different data type using the dtype parameter. \n",
    "For example, dtype=int would load the values as integers."
   ]
  },
  {
   "cell_type": "code",
   "execution_count": null,
   "id": "bcd8e9fd",
   "metadata": {},
   "outputs": [],
   "source": [
    "The main difference between copy and view is that the copy is the new array\n",
    "whereas the view is the view of the original array.\n",
    "the copy is physically stored at another location and view has \n",
    "the same memory location as the original array.\n",
    "#copy and view in numpy array"
   ]
  },
  {
   "cell_type": "code",
   "execution_count": 15,
   "id": "20fce8c9",
   "metadata": {},
   "outputs": [
    {
     "name": "stdout",
     "output_type": "stream",
     "text": [
      "2894340067472\n",
      "2894340067472\n",
      "[4 2 3]\n",
      "[4 2 3]\n"
     ]
    }
   ],
   "source": [
    "#Normal assignments do not make the copy of an array object. \n",
    "#Instead, it uses the exact same id of the original array to access it. \n",
    "arr=np.array([1,2,3])\n",
    "copyarr=arr\n",
    "print(id(arr))\n",
    "print(id(copyarr))\n",
    "copyarr[0]=4\n",
    "print(arr)\n",
    "print(copyarr)"
   ]
  },
  {
   "cell_type": "code",
   "execution_count": null,
   "id": "6572fe1a",
   "metadata": {},
   "outputs": [],
   "source": [
    "The view is just a view of the original array and view does not own the data.\n",
    "When we make changes to the view it affects the original array, and \n",
    "when changes are made to the original array it affects the view."
   ]
  },
  {
   "cell_type": "code",
   "execution_count": 17,
   "id": "56d86918",
   "metadata": {},
   "outputs": [
    {
     "name": "stdout",
     "output_type": "stream",
     "text": [
      "2894340067664\n",
      "2894340068624\n",
      "[7 2 3]\n",
      "[7 2 3]\n"
     ]
    }
   ],
   "source": [
    "ar=np.array([1,2,3])\n",
    "v=ar.view()\n",
    "print(id(ar))\n",
    "print(id(v))\n",
    "ar[0]=7\n",
    "print(ar)\n",
    "print(v)"
   ]
  },
  {
   "cell_type": "code",
   "execution_count": null,
   "id": "ddd20cbc",
   "metadata": {},
   "outputs": [],
   "source": [
    "Copy: This is also known as Deep Copy. The copy is completely a new array \n",
    "    and copy owns the data. When we make changes to the copy it does not \n",
    "    affect the original array, and when changes are made to the original\n",
    "    array it does not affect the copy."
   ]
  },
  {
   "cell_type": "code",
   "execution_count": 18,
   "id": "115e0a44",
   "metadata": {},
   "outputs": [
    {
     "name": "stdout",
     "output_type": "stream",
     "text": [
      "2894339886416\n",
      "2894318035280\n",
      "[12  2  3]\n",
      "[1 2 3]\n"
     ]
    }
   ],
   "source": [
    "a=np.array([1,2,3])\n",
    "c=a.copy()\n",
    "print(id(a))\n",
    "print(id(c))\n",
    "a[0]=12\n",
    "print(a)\n",
    "print(c)"
   ]
  },
  {
   "cell_type": "code",
   "execution_count": 19,
   "id": "409d4b1d",
   "metadata": {},
   "outputs": [
    {
     "name": "stdout",
     "output_type": "stream",
     "text": [
      "[3 4 5 7]\n",
      "[3 4 5 7]\n"
     ]
    }
   ],
   "source": [
    "#copying array\n",
    "arr=np.array([3,4,5,7])\n",
    "print(arr)\n",
    "copy=np.empty_like(arr) #creating an empty array\n",
    "copy[:]=arr\n",
    "print(copy)"
   ]
  },
  {
   "cell_type": "code",
   "execution_count": 20,
   "id": "d04c0fab",
   "metadata": {},
   "outputs": [
    {
     "name": "stdout",
     "output_type": "stream",
     "text": [
      "[3 4 8 9 7]\n",
      "[3 4 8 9 7]\n"
     ]
    }
   ],
   "source": [
    "import numpy as np\n",
    "arr=np.array([3,4,8,9,7])\n",
    "print(arr)\n",
    "c=np.copy(arr)\n",
    "print(c)"
   ]
  },
  {
   "cell_type": "code",
   "execution_count": 21,
   "id": "a5427f98",
   "metadata": {},
   "outputs": [
    {
     "name": "stdout",
     "output_type": "stream",
     "text": [
      "[1 8 3 3 5]\n",
      "[1 8 3 3 5 7]\n"
     ]
    }
   ],
   "source": [
    "#appending values at end of array\n",
    "import numpy as np\n",
    "arr = np.array([1, 8, 3, 3, 5])\n",
    "print(arr)\n",
    "arr = np.append(arr, [7])\n",
    "print(arr)"
   ]
  },
  {
   "cell_type": "code",
   "execution_count": 22,
   "id": "64b5e0b5",
   "metadata": {},
   "outputs": [
    {
     "name": "stdout",
     "output_type": "stream",
     "text": [
      "[1 2 3 4 5 6]\n"
     ]
    }
   ],
   "source": [
    "arr1=np.array([1,2,3])\n",
    "arr2=np.array([4,5,6])\n",
    "arr=np.append(arr1,arr2)\n",
    "print(arr)"
   ]
  },
  {
   "cell_type": "code",
   "execution_count": 26,
   "id": "5aa89981",
   "metadata": {},
   "outputs": [
    {
     "name": "stdout",
     "output_type": "stream",
     "text": [
      "[[ 1  2  3  4  5  6]\n",
      " [ 7  8  9 10 11 12]]\n",
      "[[ 5  6  7  8  9 10]]\n",
      "[[ 1  2  3  4  5  6]\n",
      " [ 7  8  9 10 11 12]\n",
      " [ 5  6  7  8  9 10]]\n",
      "[[1]\n",
      " [2]]\n",
      "[[ 1  2  3  4  5  6  1]\n",
      " [ 7  8  9 10 11 12  2]]\n"
     ]
    }
   ],
   "source": [
    "import numpy as np\n",
    "arr=np.arange(1,13).reshape(2,6)\n",
    "print(arr)\n",
    "\n",
    "#appending array column wise\n",
    "col=np.arange(5,11).reshape(1,6)\n",
    "print(col)\n",
    "arr1=np.append(arr,col,axis=0)\n",
    "print(arr1)\n",
    "\n",
    "#appending array row wise\n",
    "row=np.array([1,2]).reshape(2,1)\n",
    "print(row)\n",
    "arr2=np.append(arr,row,axis=1)\n",
    "print(arr2)"
   ]
  },
  {
   "cell_type": "code",
   "execution_count": 27,
   "id": "18816746",
   "metadata": {},
   "outputs": [
    {
     "name": "stdout",
     "output_type": "stream",
     "text": [
      "[[ 0  1  2]\n",
      " [ 3  4  5]\n",
      " [ 6  7  8]\n",
      " [ 9 10 11]]\n",
      "[[ 2  1  0]\n",
      " [ 5  4  3]\n",
      " [ 8  7  6]\n",
      " [11 10  9]]\n"
     ]
    }
   ],
   "source": [
    "#swapping columns in numpy array\n",
    "arr=np.arange(12).reshape(4,3)\n",
    "print(arr)\n",
    "\n",
    "arr[:,[2,0]]=arr[:,[0,2]]\n",
    "print(arr)"
   ]
  },
  {
   "cell_type": "code",
   "execution_count": null,
   "id": "6fc14d51",
   "metadata": {},
   "outputs": [],
   "source": [
    "numpy.hstack() function is used to stack the sequence of \n",
    "input arrays horizontally (i.e. column wise) to make a single array.\n",
    "Syntax : numpy.hstack(tup)\n",
    "\n",
    "Parameters :\n",
    "tup : [sequence of ndarrays] Tuple containing arrays to be stacked. \n",
    "The arrays must have the same shape along all but the second axis."
   ]
  },
  {
   "cell_type": "code",
   "execution_count": 29,
   "id": "37b645de",
   "metadata": {},
   "outputs": [
    {
     "name": "stdout",
     "output_type": "stream",
     "text": [
      "[1 2 3 4 5 6]\n"
     ]
    }
   ],
   "source": [
    "a1=np.array([1,2,3])\n",
    "a2=np.array([4,5,6])\n",
    "arr=np.hstack((a1,a2))\n",
    "print(arr)"
   ]
  },
  {
   "cell_type": "code",
   "execution_count": 31,
   "id": "bf47220b",
   "metadata": {},
   "outputs": [
    {
     "name": "stdout",
     "output_type": "stream",
     "text": [
      "[[1 2 3 4 5 6]\n",
      " [5 8 7 6 9 7]]\n"
     ]
    }
   ],
   "source": [
    "a1=np.array([[1,2,3],[5,8,7]])\n",
    "a2=np.array([[4,5,6],[6,9,7]])\n",
    "arr=np.hstack((a1,a2))\n",
    "print(arr)"
   ]
  },
  {
   "cell_type": "code",
   "execution_count": null,
   "id": "5c481d62",
   "metadata": {},
   "outputs": [],
   "source": [
    "numpy.vstack() function is used to stack the sequence of input arrays\n",
    "vertically to make a single array.\n",
    "Syntax : numpy.vstack(tup)\n",
    "\n",
    "Parameters :\n",
    "tup : [sequence of ndarrays] Tuple containing arrays to be stacked. \n",
    "The arrays must have the same shape along all but the first axis."
   ]
  },
  {
   "cell_type": "code",
   "execution_count": 32,
   "id": "50f1fdd1",
   "metadata": {},
   "outputs": [
    {
     "name": "stdout",
     "output_type": "stream",
     "text": [
      "[[1 2 3]\n",
      " [4 5 6]]\n"
     ]
    }
   ],
   "source": [
    "a1=np.array([1,2,3])\n",
    "a2=np.array([4,5,6])\n",
    "arr=np.vstack((a1,a2))\n",
    "print(arr)"
   ]
  },
  {
   "cell_type": "code",
   "execution_count": 33,
   "id": "959a775b",
   "metadata": {},
   "outputs": [
    {
     "name": "stdout",
     "output_type": "stream",
     "text": [
      "[[1 2 3]\n",
      " [5 8 7]\n",
      " [4 5 6]\n",
      " [6 9 7]]\n"
     ]
    }
   ],
   "source": [
    "a1=np.array([[1,2,3],[5,8,7]])\n",
    "a2=np.array([[4,5,6],[6,9,7]])\n",
    "arr=np.vstack((a1,a2))\n",
    "print(arr)"
   ]
  },
  {
   "cell_type": "code",
   "execution_count": 34,
   "id": "dfb45e2c",
   "metadata": {},
   "outputs": [
    {
     "name": "stdout",
     "output_type": "stream",
     "text": [
      "[1 2 3 4 5 6]\n"
     ]
    }
   ],
   "source": [
    "#combining arrays\n",
    "a1=np.array([1,2,3])\n",
    "a2=np.array([4,5,6])\n",
    "arr_new=np.concatenate((a1,a2))\n",
    "print(arr_new)\n",
    "\n",
    "#by default value of axis is 0"
   ]
  },
  {
   "cell_type": "code",
   "execution_count": 37,
   "id": "e023ad68",
   "metadata": {},
   "outputs": [
    {
     "name": "stdout",
     "output_type": "stream",
     "text": [
      "[[1 2 3 4 5 6]\n",
      " [4 9 7 3 5 4]]\n",
      "[[1 2 3]\n",
      " [4 9 7]\n",
      " [4 5 6]\n",
      " [3 5 4]]\n"
     ]
    }
   ],
   "source": [
    "#combining arrays\n",
    "a1=np.array([[1,2,3],[4,9,7]])\n",
    "a2=np.array([[4,5,6],[3,5,4]])\n",
    "arr_new=np.concatenate((a1,a2),axis=1)\n",
    "print(arr_new)\n",
    "\n",
    "arr_2=np.concatenate((a1,a2))\n",
    "print(arr_2)\n",
    "\n",
    "#by default value of axis is 0"
   ]
  },
  {
   "cell_type": "code",
   "execution_count": 38,
   "id": "d688f4b8",
   "metadata": {},
   "outputs": [
    {
     "name": "stdout",
     "output_type": "stream",
     "text": [
      "[[[1 2 3]\n",
      "  [4 5 6]]\n",
      "\n",
      " [[4 9 7]\n",
      "  [3 5 4]]]\n"
     ]
    }
   ],
   "source": [
    "a1=np.array([[1,2,3],[4,9,7]])\n",
    "a2=np.array([[4,5,6],[3,5,4]])\n",
    "arr_new=np.stack((a1,a2),axis=1)\n",
    "print(arr_new)"
   ]
  },
  {
   "cell_type": "code",
   "execution_count": 39,
   "id": "8ff98087",
   "metadata": {},
   "outputs": [
    {
     "name": "stdout",
     "output_type": "stream",
     "text": [
      "[[1 1 2 2 2]\n",
      " [1 1 2 2 2]\n",
      " [4 4 4 3 3]\n",
      " [4 4 4 3 3]\n",
      " [4 4 4 3 3]]\n"
     ]
    }
   ],
   "source": [
    "import numpy as np\n",
    "  \n",
    "block_1 = np.array([[1, 1], [1, 1]])\n",
    "block_2 = np.array([[2, 2, 2], [2, 2, 2]])\n",
    "block_3 = np.array([[3, 3], [3, 3], [3, 3]])\n",
    "block_4 = np.array([[4, 4, 4], [4, 4, 4], [4, 4, 4]])\n",
    "  \n",
    "block_new = np.block([\n",
    "    [block_1, block_2],\n",
    "    [block_4, block_3]\n",
    "])\n",
    "  \n",
    "print(block_new)"
   ]
  },
  {
   "cell_type": "code",
   "execution_count": 1,
   "id": "f058a2ef",
   "metadata": {},
   "outputs": [
    {
     "name": "stdout",
     "output_type": "stream",
     "text": [
      "[[[1 4]\n",
      "  [2 5]\n",
      "  [3 6]]]\n"
     ]
    }
   ],
   "source": [
    "import numpy as np\n",
    "  \n",
    "gfg1 = np.array([1, 2, 3])\n",
    "gfg2 = np.array([4, 5, 6])\n",
    "\n",
    "print(np.dstack((gfg1, gfg2)))"
   ]
  },
  {
   "cell_type": "code",
   "execution_count": null,
   "id": "38df28fa",
   "metadata": {},
   "outputs": [],
   "source": []
  }
 ],
 "metadata": {
  "kernelspec": {
   "display_name": "Python 3 (ipykernel)",
   "language": "python",
   "name": "python3"
  },
  "language_info": {
   "codemirror_mode": {
    "name": "ipython",
    "version": 3
   },
   "file_extension": ".py",
   "mimetype": "text/x-python",
   "name": "python",
   "nbconvert_exporter": "python",
   "pygments_lexer": "ipython3",
   "version": "3.9.13"
  }
 },
 "nbformat": 4,
 "nbformat_minor": 5
}
